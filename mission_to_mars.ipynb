{
 "cells": [
  {
   "cell_type": "code",
   "execution_count": 68,
   "metadata": {},
   "outputs": [],
   "source": [
    "# Dependencies\n",
    "from bs4 import BeautifulSoup\n",
    "import requests\n",
    "import pymongo\n",
    "\n",
    "#from selenium import webdriver\n",
    "from splinter import Browser\n",
    "from bs4 import BeautifulSoup"
   ]
  },
  {
   "cell_type": "code",
   "execution_count": null,
   "metadata": {},
   "outputs": [],
   "source": []
  },
  {
   "cell_type": "markdown",
   "metadata": {},
   "source": [
    "## Step 1 - Scraping"
   ]
  },
  {
   "cell_type": "markdown",
   "metadata": {},
   "source": [
    "\n",
    "### NASA Mars News"
   ]
  },
  {
   "cell_type": "code",
   "execution_count": 61,
   "metadata": {},
   "outputs": [
    {
     "name": "stdout",
     "output_type": "stream",
     "text": [
      "https://mars.nasa.gov/news/?page=0&per_page=40&order=publish_date+desc%2Ccreated_at+desc&search=&category=19%2C165%2C184%2C204&blank_scope=Latest\n",
      "<Response [200]>\n"
     ]
    }
   ],
   "source": [
    "# URL of page to be scraped\n",
    "url = 'https://mars.nasa.gov/news/'\n",
    "url = 'https://mars.nasa.gov/news/?page=0&per_page=40&order=publish_date+desc%2Ccreated_at+desc&search=&category=19%2C165%2C184%2C204&blank_scope=Latest'\n",
    "\n",
    "print(url)\n",
    "# Retrieve page with the requests module\n",
    "response = requests.get(url)\n",
    "print(response)\n",
    "# Create BeautifulSoup object; parse with 'lxml'\n",
    "soup = BeautifulSoup(response.text, 'lxml')\n",
    "\n",
    "#print(soup)"
   ]
  },
  {
   "cell_type": "code",
   "execution_count": 62,
   "metadata": {},
   "outputs": [],
   "source": [
    "# Examine the results, then determine element that contains sought info\n",
    "# results are returned as an iterable list\n",
    "results = soup.find_all('div', class_='slide')\n",
    "\n",
    "errores = 0\n",
    "\n",
    "posts_list = []\n",
    "\n",
    "#print(results)\n",
    "# Loop through returned results\n",
    "for result in results:\n",
    "    # Error handling\n",
    "    try:\n",
    "        # Identify and return title of listing\n",
    "        news_title = result.find('div', class_='content_title').a.text\n",
    "        \n",
    "        news_title = news_title.replace('\\n', '').replace('\\r', '')\n",
    "        #title = title.find('a').text\n",
    "        #print(title)\n",
    "        \n",
    "        # Identify and return price of listing\n",
    "        news_p = result.find('div', class_='rollover_description_inner').text\n",
    "        \n",
    "        news_p = news_p.replace('\\n', '').replace('\\r', '')\n",
    "        #print(description)\n",
    "        \n",
    "        # Identify and return link to listing\n",
    "        news_link = result.find('div', class_='content_title').a['href']\n",
    "        #print(link)\n",
    "        \n",
    "        # Run only if title, price, and link are available\n",
    "        if (news_title and news_p and link):\n",
    "            # Print results\n",
    "            #print('-------------')\n",
    "            #print(news_title)\n",
    "            #print(news_p)\n",
    "            #print(news_link)\n",
    "\n",
    "\n",
    "            # Dictionary to be inserted as a MongoDB document\n",
    "            post = {\n",
    "                'news_title': news_title,\n",
    "                'news_p': news_p,\n",
    "                'news_link': news_link\n",
    "            }\n",
    "            #print(post)\n",
    "            #collection.insert_one(post)\n",
    "            posts_list.append(post)\n",
    "\n",
    "\n",
    "    except Exception as e:\n",
    "        errores =+ 1"
   ]
  },
  {
   "cell_type": "code",
   "execution_count": 63,
   "metadata": {},
   "outputs": [
    {
     "data": {
      "text/plain": [
       "[{'news_title': \"NASA's Opportunity Rover Mission on Mars Comes to End\",\n",
       "  'news_p': \"NASA's Opportunity Mars rover mission is complete after 15 years on Mars. Opportunity's record-breaking exploration laid the groundwork for future missions to the Red Planet.\",\n",
       "  'news_link': '/news/8413/nasas-opportunity-rover-mission-on-mars-comes-to-end/'},\n",
       " {'news_title': \"NASA's InSight Places First Instrument on Mars\",\n",
       "  'news_p': 'In deploying its first instrument onto the surface of Mars, the lander completes a major mission milestone.',\n",
       "  'news_link': '/news/8402/nasas-insight-places-first-instrument-on-mars/'},\n",
       " {'news_title': 'NASA Announces Landing Site for Mars 2020 Rover',\n",
       "  'news_p': 'After a five-year search, NASA has chosen Jezero Crater as the landing site for its upcoming Mars 2020 rover mission.',\n",
       "  'news_link': '/news/8387/nasa-announces-landing-site-for-mars-2020-rover/'},\n",
       " {'news_title': 'Opportunity Hunkers Down During Dust Storm',\n",
       "  'news_p': \"It's the beginning of the end for the planet-encircling dust storm on Mars. But it could still be weeks, or even months, before skies are clear enough for NASA's Opportunity rover to recharge its batteries and phone home. \",\n",
       "  'news_link': '/news/8348/opportunity-hunkers-down-during-dust-storm/'},\n",
       " {'news_title': 'NASA Finds Ancient Organic Material, Mysterious Methane on Mars',\n",
       "  'news_p': 'NASA’s Curiosity rover has found evidence on Mars with implications for NASA’s search for life.',\n",
       "  'news_link': '/news/8347/nasa-finds-ancient-organic-material-mysterious-methane-on-mars/'},\n",
       " {'news_title': 'NASA Invests in Visionary Technology ',\n",
       "  'news_p': 'NASA is investing in technology concepts, including several from JPL, that may one day be used for future space exploration missions.',\n",
       "  'news_link': '/news/8326/nasa-invests-in-visionary-technology/'}]"
      ]
     },
     "execution_count": 63,
     "metadata": {},
     "output_type": "execute_result"
    }
   ],
   "source": [
    "posts_list"
   ]
  },
  {
   "cell_type": "markdown",
   "metadata": {},
   "source": [
    "\n",
    "### JPL Mars Space Images - Featured Image"
   ]
  },
  {
   "cell_type": "code",
   "execution_count": 66,
   "metadata": {},
   "outputs": [
    {
     "name": "stdout",
     "output_type": "stream",
     "text": [
      "/usr/local/bin/chromedriver\r\n"
     ]
    }
   ],
   "source": [
    "!which chromedriver"
   ]
  },
  {
   "cell_type": "code",
   "execution_count": 69,
   "metadata": {},
   "outputs": [],
   "source": [
    "executable_path = {'executable_path': '/usr/local/bin/chromedriver'}\n",
    "browser = Browser('chrome', **executable_path, headless=False)"
   ]
  },
  {
   "cell_type": "code",
   "execution_count": 76,
   "metadata": {},
   "outputs": [],
   "source": [
    "url = 'https://www.jpl.nasa.gov/spaceimages/?search=&category=Mars'\n",
    "browser.visit(url)"
   ]
  },
  {
   "cell_type": "code",
   "execution_count": 120,
   "metadata": {},
   "outputs": [],
   "source": [
    "\n",
    " \n",
    "html = browser.html\n",
    "soup = BeautifulSoup(html, 'html.parser')\n",
    "\n",
    "quotes = soup.find_all('article')\n",
    "\n",
    "pre = 'https://www.jpl.nasa.gov'\n",
    "url = \"\"\n",
    "\n",
    "for quote in quotes:\n",
    "    try:\n",
    "        #print(quote['style'])\n",
    "        url = quote['style']\n",
    "        s = url.split(\"'\")\n",
    "        featured_image_url = pre + s[1]\n",
    "\n",
    "\n",
    "    except Exception as e:\n",
    "        print(f'Error: {e}')\n",
    "\n",
    "\n",
    "\n",
    "#print(soup)\n",
    "\n",
    "#quotes = soup.find_all('img')\n",
    "\n",
    "#for quote in quotes:\n",
    " #   if 'spaceimages' in quote['src']:\n",
    "  #      print(quote['src'])\n",
    "    \n"
   ]
  },
  {
   "cell_type": "code",
   "execution_count": 121,
   "metadata": {},
   "outputs": [
    {
     "data": {
      "text/plain": [
       "'https://www.jpl.nasa.gov/spaceimages/images/wallpaper/PIA08097-1920x1200.jpg'"
      ]
     },
     "execution_count": 121,
     "metadata": {},
     "output_type": "execute_result"
    }
   ],
   "source": [
    "featured_image_url\n"
   ]
  },
  {
   "cell_type": "code",
   "execution_count": 118,
   "metadata": {},
   "outputs": [
    {
     "data": {
      "text/plain": [
       "'https://www.jpl.nasa.gov/spaceimages/images/wallpaper/PIA08097-1920x1200.jpg'"
      ]
     },
     "execution_count": 118,
     "metadata": {},
     "output_type": "execute_result"
    }
   ],
   "source": []
  },
  {
   "cell_type": "code",
   "execution_count": null,
   "metadata": {},
   "outputs": [],
   "source": []
  },
  {
   "cell_type": "code",
   "execution_count": null,
   "metadata": {},
   "outputs": [],
   "source": []
  }
 ],
 "metadata": {
  "kernelspec": {
   "display_name": "Python 3",
   "language": "python",
   "name": "python3"
  },
  "language_info": {
   "codemirror_mode": {
    "name": "ipython",
    "version": 3
   },
   "file_extension": ".py",
   "mimetype": "text/x-python",
   "name": "python",
   "nbconvert_exporter": "python",
   "pygments_lexer": "ipython3",
   "version": "3.6.8"
  }
 },
 "nbformat": 4,
 "nbformat_minor": 2
}
